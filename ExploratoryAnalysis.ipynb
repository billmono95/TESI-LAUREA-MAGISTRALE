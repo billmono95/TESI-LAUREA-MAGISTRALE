{
 "cells": [
  {
   "cell_type": "code",
   "execution_count": 1,
   "metadata": {},
   "outputs": [],
   "source": [
    "import pandas as pd \n",
    "import numpy as np"
   ]
  },
  {
   "cell_type": "code",
   "execution_count": 2,
   "metadata": {},
   "outputs": [],
   "source": [
    "df = pd.read_csv(\"file.csv\")"
   ]
  },
  {
   "cell_type": "code",
   "execution_count": 3,
   "metadata": {},
   "outputs": [
    {
     "data": {
      "text/html": [
       "<div>\n",
       "<style scoped>\n",
       "    .dataframe tbody tr th:only-of-type {\n",
       "        vertical-align: middle;\n",
       "    }\n",
       "\n",
       "    .dataframe tbody tr th {\n",
       "        vertical-align: top;\n",
       "    }\n",
       "\n",
       "    .dataframe thead th {\n",
       "        text-align: right;\n",
       "    }\n",
       "</style>\n",
       "<table border=\"1\" class=\"dataframe\">\n",
       "  <thead>\n",
       "    <tr style=\"text-align: right;\">\n",
       "      <th></th>\n",
       "      <th>Date</th>\n",
       "      <th>ETH</th>\n",
       "      <th>BTC</th>\n",
       "      <th>XRP</th>\n",
       "      <th>LTC</th>\n",
       "      <th>XLM</th>\n",
       "      <th>Palladium</th>\n",
       "      <th>Gold</th>\n",
       "      <th>HSI</th>\n",
       "      <th>N225</th>\n",
       "      <th>SP500</th>\n",
       "      <th>NVIDIA</th>\n",
       "      <th>AMD</th>\n",
       "    </tr>\n",
       "  </thead>\n",
       "  <tbody>\n",
       "    <tr>\n",
       "      <th>0</th>\n",
       "      <td>2016-01-01</td>\n",
       "      <td>0.948024</td>\n",
       "      <td>434.33</td>\n",
       "      <td>0.005955</td>\n",
       "      <td>3.51</td>\n",
       "      <td>0.001748</td>\n",
       "      <td>562.00</td>\n",
       "      <td>1060.2</td>\n",
       "      <td>21914.400391</td>\n",
       "      <td>19033.710938</td>\n",
       "      <td>2035.4</td>\n",
       "      <td>32.96</td>\n",
       "      <td>2.87</td>\n",
       "    </tr>\n",
       "    <tr>\n",
       "      <th>1</th>\n",
       "      <td>2016-01-02</td>\n",
       "      <td>0.937124</td>\n",
       "      <td>433.44</td>\n",
       "      <td>0.006065</td>\n",
       "      <td>3.50</td>\n",
       "      <td>0.001741</td>\n",
       "      <td>562.00</td>\n",
       "      <td>1060.2</td>\n",
       "      <td>21914.400391</td>\n",
       "      <td>19033.710938</td>\n",
       "      <td>2035.4</td>\n",
       "      <td>32.96</td>\n",
       "      <td>2.87</td>\n",
       "    </tr>\n",
       "    <tr>\n",
       "      <th>2</th>\n",
       "      <td>2016-01-03</td>\n",
       "      <td>0.971905</td>\n",
       "      <td>430.01</td>\n",
       "      <td>0.006017</td>\n",
       "      <td>3.48</td>\n",
       "      <td>0.001744</td>\n",
       "      <td>562.00</td>\n",
       "      <td>1060.2</td>\n",
       "      <td>21914.400391</td>\n",
       "      <td>19033.710938</td>\n",
       "      <td>2035.4</td>\n",
       "      <td>32.96</td>\n",
       "      <td>2.87</td>\n",
       "    </tr>\n",
       "    <tr>\n",
       "      <th>3</th>\n",
       "      <td>2016-01-04</td>\n",
       "      <td>0.954480</td>\n",
       "      <td>433.09</td>\n",
       "      <td>0.005958</td>\n",
       "      <td>3.50</td>\n",
       "      <td>0.001748</td>\n",
       "      <td>544.20</td>\n",
       "      <td>1075.2</td>\n",
       "      <td>21327.119141</td>\n",
       "      <td>18450.980469</td>\n",
       "      <td>2009.1</td>\n",
       "      <td>32.37</td>\n",
       "      <td>2.77</td>\n",
       "    </tr>\n",
       "    <tr>\n",
       "      <th>4</th>\n",
       "      <td>2016-01-05</td>\n",
       "      <td>0.950176</td>\n",
       "      <td>431.96</td>\n",
       "      <td>0.006044</td>\n",
       "      <td>3.47</td>\n",
       "      <td>0.001721</td>\n",
       "      <td>535.75</td>\n",
       "      <td>1078.4</td>\n",
       "      <td>21188.720703</td>\n",
       "      <td>18374.000000</td>\n",
       "      <td>2011.7</td>\n",
       "      <td>32.89</td>\n",
       "      <td>2.75</td>\n",
       "    </tr>\n",
       "  </tbody>\n",
       "</table>\n",
       "</div>"
      ],
      "text/plain": [
       "         Date       ETH     BTC       XRP   LTC       XLM  Palladium    Gold  \\\n",
       "0  2016-01-01  0.948024  434.33  0.005955  3.51  0.001748     562.00  1060.2   \n",
       "1  2016-01-02  0.937124  433.44  0.006065  3.50  0.001741     562.00  1060.2   \n",
       "2  2016-01-03  0.971905  430.01  0.006017  3.48  0.001744     562.00  1060.2   \n",
       "3  2016-01-04  0.954480  433.09  0.005958  3.50  0.001748     544.20  1075.2   \n",
       "4  2016-01-05  0.950176  431.96  0.006044  3.47  0.001721     535.75  1078.4   \n",
       "\n",
       "            HSI          N225   SP500  NVIDIA   AMD  \n",
       "0  21914.400391  19033.710938  2035.4   32.96  2.87  \n",
       "1  21914.400391  19033.710938  2035.4   32.96  2.87  \n",
       "2  21914.400391  19033.710938  2035.4   32.96  2.87  \n",
       "3  21327.119141  18450.980469  2009.1   32.37  2.77  \n",
       "4  21188.720703  18374.000000  2011.7   32.89  2.75  "
      ]
     },
     "execution_count": 3,
     "metadata": {},
     "output_type": "execute_result"
    }
   ],
   "source": [
    "df.head()"
   ]
  },
  {
   "cell_type": "code",
   "execution_count": 4,
   "metadata": {},
   "outputs": [
    {
     "name": "stdout",
     "output_type": "stream",
     "text": [
      "<class 'pandas.core.frame.DataFrame'>\n",
      "RangeIndex: 1827 entries, 0 to 1826\n",
      "Data columns (total 13 columns):\n",
      " #   Column     Non-Null Count  Dtype  \n",
      "---  ------     --------------  -----  \n",
      " 0   Date       1827 non-null   object \n",
      " 1   ETH        1827 non-null   float64\n",
      " 2   BTC        1827 non-null   float64\n",
      " 3   XRP        1827 non-null   float64\n",
      " 4   LTC        1827 non-null   float64\n",
      " 5   XLM        1827 non-null   float64\n",
      " 6   Palladium  1827 non-null   float64\n",
      " 7   Gold       1827 non-null   float64\n",
      " 8   HSI        1827 non-null   float64\n",
      " 9   N225       1827 non-null   float64\n",
      " 10  SP500      1827 non-null   float64\n",
      " 11  NVIDIA     1827 non-null   float64\n",
      " 12  AMD        1827 non-null   float64\n",
      "dtypes: float64(12), object(1)\n",
      "memory usage: 185.7+ KB\n"
     ]
    }
   ],
   "source": [
    "df.info()"
   ]
  },
  {
   "cell_type": "code",
   "execution_count": 9,
   "metadata": {},
   "outputs": [
    {
     "data": {
      "text/html": [
       "<div>\n",
       "<style scoped>\n",
       "    .dataframe tbody tr th:only-of-type {\n",
       "        vertical-align: middle;\n",
       "    }\n",
       "\n",
       "    .dataframe tbody tr th {\n",
       "        vertical-align: top;\n",
       "    }\n",
       "\n",
       "    .dataframe thead th {\n",
       "        text-align: right;\n",
       "    }\n",
       "</style>\n",
       "<table border=\"1\" class=\"dataframe\">\n",
       "  <thead>\n",
       "    <tr style=\"text-align: right;\">\n",
       "      <th></th>\n",
       "      <th>ETH</th>\n",
       "      <th>BTC</th>\n",
       "      <th>XRP</th>\n",
       "      <th>LTC</th>\n",
       "      <th>XLM</th>\n",
       "      <th>Palladium</th>\n",
       "      <th>Gold</th>\n",
       "      <th>HSI</th>\n",
       "      <th>N225</th>\n",
       "      <th>SP500</th>\n",
       "      <th>NVIDIA</th>\n",
       "      <th>AMD</th>\n",
       "    </tr>\n",
       "  </thead>\n",
       "  <tbody>\n",
       "    <tr>\n",
       "      <th>count</th>\n",
       "      <td>1827.000000</td>\n",
       "      <td>1827.000000</td>\n",
       "      <td>1827.000000</td>\n",
       "      <td>1827.000000</td>\n",
       "      <td>1827.000000</td>\n",
       "      <td>1827.000000</td>\n",
       "      <td>1827.000000</td>\n",
       "      <td>1827.000000</td>\n",
       "      <td>1827.000000</td>\n",
       "      <td>1827.000000</td>\n",
       "      <td>1827.000000</td>\n",
       "      <td>1827.000000</td>\n",
       "    </tr>\n",
       "    <tr>\n",
       "      <th>mean</th>\n",
       "      <td>241.212440</td>\n",
       "      <td>6131.373196</td>\n",
       "      <td>0.288848</td>\n",
       "      <td>57.071834</td>\n",
       "      <td>0.097929</td>\n",
       "      <td>1239.691653</td>\n",
       "      <td>1391.137110</td>\n",
       "      <td>25869.401140</td>\n",
       "      <td>20758.912143</td>\n",
       "      <td>2680.780460</td>\n",
       "      <td>200.687849</td>\n",
       "      <td>26.026719</td>\n",
       "    </tr>\n",
       "    <tr>\n",
       "      <th>std</th>\n",
       "      <td>231.644267</td>\n",
       "      <td>4732.385630</td>\n",
       "      <td>0.327973</td>\n",
       "      <td>53.838674</td>\n",
       "      <td>0.117155</td>\n",
       "      <td>573.601789</td>\n",
       "      <td>218.590348</td>\n",
       "      <td>3084.100808</td>\n",
       "      <td>2512.991016</td>\n",
       "      <td>424.863272</td>\n",
       "      <td>127.314333</td>\n",
       "      <td>22.978505</td>\n",
       "    </tr>\n",
       "    <tr>\n",
       "      <th>min</th>\n",
       "      <td>0.937124</td>\n",
       "      <td>364.330000</td>\n",
       "      <td>0.005112</td>\n",
       "      <td>3.000000</td>\n",
       "      <td>0.001444</td>\n",
       "      <td>469.800000</td>\n",
       "      <td>1060.200000</td>\n",
       "      <td>18319.580078</td>\n",
       "      <td>14952.019531</td>\n",
       "      <td>1824.500000</td>\n",
       "      <td>25.220000</td>\n",
       "      <td>1.800000</td>\n",
       "    </tr>\n",
       "    <tr>\n",
       "      <th>25%</th>\n",
       "      <td>46.590000</td>\n",
       "      <td>1187.840000</td>\n",
       "      <td>0.025938</td>\n",
       "      <td>7.360000</td>\n",
       "      <td>0.002868</td>\n",
       "      <td>788.400000</td>\n",
       "      <td>1251.700000</td>\n",
       "      <td>23754.459961</td>\n",
       "      <td>19282.159180</td>\n",
       "      <td>2359.600000</td>\n",
       "      <td>107.930000</td>\n",
       "      <td>10.920000</td>\n",
       "    </tr>\n",
       "    <tr>\n",
       "      <th>50%</th>\n",
       "      <td>194.870000</td>\n",
       "      <td>6416.310000</td>\n",
       "      <td>0.246065</td>\n",
       "      <td>48.210000</td>\n",
       "      <td>0.067262</td>\n",
       "      <td>1015.200000</td>\n",
       "      <td>1302.900000</td>\n",
       "      <td>26129.929688</td>\n",
       "      <td>21275.919922</td>\n",
       "      <td>2711.100000</td>\n",
       "      <td>179.740000</td>\n",
       "      <td>16.270000</td>\n",
       "    </tr>\n",
       "    <tr>\n",
       "      <th>75%</th>\n",
       "      <td>324.655000</td>\n",
       "      <td>9218.810000</td>\n",
       "      <td>0.335255</td>\n",
       "      <td>73.490000</td>\n",
       "      <td>0.122353</td>\n",
       "      <td>1619.100000</td>\n",
       "      <td>1487.800000</td>\n",
       "      <td>28187.865235</td>\n",
       "      <td>22594.029297</td>\n",
       "      <td>2941.300000</td>\n",
       "      <td>247.955000</td>\n",
       "      <td>32.720000</td>\n",
       "    </tr>\n",
       "    <tr>\n",
       "      <th>max</th>\n",
       "      <td>1396.420000</td>\n",
       "      <td>29001.720000</td>\n",
       "      <td>3.380000</td>\n",
       "      <td>358.340000</td>\n",
       "      <td>0.896227</td>\n",
       "      <td>2711.700000</td>\n",
       "      <td>2069.400000</td>\n",
       "      <td>33154.121094</td>\n",
       "      <td>27568.150391</td>\n",
       "      <td>3712.800000</td>\n",
       "      <td>582.480000</td>\n",
       "      <td>97.120000</td>\n",
       "    </tr>\n",
       "  </tbody>\n",
       "</table>\n",
       "</div>"
      ],
      "text/plain": [
       "               ETH           BTC          XRP          LTC          XLM  \\\n",
       "count  1827.000000   1827.000000  1827.000000  1827.000000  1827.000000   \n",
       "mean    241.212440   6131.373196     0.288848    57.071834     0.097929   \n",
       "std     231.644267   4732.385630     0.327973    53.838674     0.117155   \n",
       "min       0.937124    364.330000     0.005112     3.000000     0.001444   \n",
       "25%      46.590000   1187.840000     0.025938     7.360000     0.002868   \n",
       "50%     194.870000   6416.310000     0.246065    48.210000     0.067262   \n",
       "75%     324.655000   9218.810000     0.335255    73.490000     0.122353   \n",
       "max    1396.420000  29001.720000     3.380000   358.340000     0.896227   \n",
       "\n",
       "         Palladium         Gold           HSI          N225        SP500  \\\n",
       "count  1827.000000  1827.000000   1827.000000   1827.000000  1827.000000   \n",
       "mean   1239.691653  1391.137110  25869.401140  20758.912143  2680.780460   \n",
       "std     573.601789   218.590348   3084.100808   2512.991016   424.863272   \n",
       "min     469.800000  1060.200000  18319.580078  14952.019531  1824.500000   \n",
       "25%     788.400000  1251.700000  23754.459961  19282.159180  2359.600000   \n",
       "50%    1015.200000  1302.900000  26129.929688  21275.919922  2711.100000   \n",
       "75%    1619.100000  1487.800000  28187.865235  22594.029297  2941.300000   \n",
       "max    2711.700000  2069.400000  33154.121094  27568.150391  3712.800000   \n",
       "\n",
       "            NVIDIA          AMD  \n",
       "count  1827.000000  1827.000000  \n",
       "mean    200.687849    26.026719  \n",
       "std     127.314333    22.978505  \n",
       "min      25.220000     1.800000  \n",
       "25%     107.930000    10.920000  \n",
       "50%     179.740000    16.270000  \n",
       "75%     247.955000    32.720000  \n",
       "max     582.480000    97.120000  "
      ]
     },
     "execution_count": 9,
     "metadata": {},
     "output_type": "execute_result"
    }
   ],
   "source": [
    "df.describe()"
   ]
  },
  {
   "cell_type": "code",
   "execution_count": 10,
   "metadata": {},
   "outputs": [
    {
     "data": {
      "text/html": [
       "<div>\n",
       "<style scoped>\n",
       "    .dataframe tbody tr th:only-of-type {\n",
       "        vertical-align: middle;\n",
       "    }\n",
       "\n",
       "    .dataframe tbody tr th {\n",
       "        vertical-align: top;\n",
       "    }\n",
       "\n",
       "    .dataframe thead th {\n",
       "        text-align: right;\n",
       "    }\n",
       "</style>\n",
       "<table border=\"1\" class=\"dataframe\">\n",
       "  <thead>\n",
       "    <tr style=\"text-align: right;\">\n",
       "      <th></th>\n",
       "      <th>NA</th>\n",
       "    </tr>\n",
       "  </thead>\n",
       "  <tbody>\n",
       "    <tr>\n",
       "      <th>Date</th>\n",
       "      <td>0</td>\n",
       "    </tr>\n",
       "    <tr>\n",
       "      <th>ETH</th>\n",
       "      <td>0</td>\n",
       "    </tr>\n",
       "    <tr>\n",
       "      <th>BTC</th>\n",
       "      <td>0</td>\n",
       "    </tr>\n",
       "    <tr>\n",
       "      <th>XRP</th>\n",
       "      <td>0</td>\n",
       "    </tr>\n",
       "    <tr>\n",
       "      <th>LTC</th>\n",
       "      <td>0</td>\n",
       "    </tr>\n",
       "    <tr>\n",
       "      <th>XLM</th>\n",
       "      <td>0</td>\n",
       "    </tr>\n",
       "    <tr>\n",
       "      <th>Palladium</th>\n",
       "      <td>0</td>\n",
       "    </tr>\n",
       "    <tr>\n",
       "      <th>Gold</th>\n",
       "      <td>0</td>\n",
       "    </tr>\n",
       "    <tr>\n",
       "      <th>HSI</th>\n",
       "      <td>0</td>\n",
       "    </tr>\n",
       "    <tr>\n",
       "      <th>N225</th>\n",
       "      <td>0</td>\n",
       "    </tr>\n",
       "    <tr>\n",
       "      <th>SP500</th>\n",
       "      <td>0</td>\n",
       "    </tr>\n",
       "    <tr>\n",
       "      <th>NVIDIA</th>\n",
       "      <td>0</td>\n",
       "    </tr>\n",
       "    <tr>\n",
       "      <th>AMD</th>\n",
       "      <td>0</td>\n",
       "    </tr>\n",
       "  </tbody>\n",
       "</table>\n",
       "</div>"
      ],
      "text/plain": [
       "           NA\n",
       "Date        0\n",
       "ETH         0\n",
       "BTC         0\n",
       "XRP         0\n",
       "LTC         0\n",
       "XLM         0\n",
       "Palladium   0\n",
       "Gold        0\n",
       "HSI         0\n",
       "N225        0\n",
       "SP500       0\n",
       "NVIDIA      0\n",
       "AMD         0"
      ]
     },
     "execution_count": 10,
     "metadata": {},
     "output_type": "execute_result"
    }
   ],
   "source": [
    "counts = []\n",
    "for col in df.columns:\n",
    "    na_count = df[df[col].isna()].shape[0]\n",
    "    counts.append(na_count)\n",
    "\n",
    "pd.DataFrame(counts, index=df.columns, columns=['NA'])"
   ]
  },
  {
   "cell_type": "markdown",
   "metadata": {},
   "source": [
    "\n",
    "# Prepocessing : trasformazione del tipo di dati\n"
   ]
  },
  {
   "cell_type": "code",
   "execution_count": 12,
   "metadata": {},
   "outputs": [
    {
     "data": {
      "text/plain": [
       "Date          object\n",
       "ETH          float64\n",
       "BTC          float64\n",
       "XRP          float64\n",
       "LTC          float64\n",
       "XLM          float64\n",
       "Palladium    float64\n",
       "Gold         float64\n",
       "HSI          float64\n",
       "N225         float64\n",
       "SP500        float64\n",
       "NVIDIA       float64\n",
       "AMD          float64\n",
       "dtype: object"
      ]
     },
     "execution_count": 12,
     "metadata": {},
     "output_type": "execute_result"
    }
   ],
   "source": [
    "df.dtypes"
   ]
  },
  {
   "cell_type": "code",
   "execution_count": 13,
   "metadata": {},
   "outputs": [],
   "source": [
    "df['Date'] = pd.to_datetime(df['Date'],format = \"%Y-%m-%d\")"
   ]
  },
  {
   "cell_type": "code",
   "execution_count": 15,
   "metadata": {},
   "outputs": [],
   "source": [
    "#df.dtypes"
   ]
  },
  {
   "cell_type": "markdown",
   "metadata": {},
   "source": [
    "## Grafici preliminari\n"
   ]
  },
  {
   "cell_type": "code",
   "execution_count": 16,
   "metadata": {},
   "outputs": [
    {
     "data": {
      "image/png": "[encoded data removed]",
      "text/plain": [
       "<Figure size 540x360 with 2 Axes>"
      ]
     },
     "metadata": {
      "needs_background": "light"
     },
     "output_type": "display_data"
    },
    {
     "data": {
      "image/png": "[encoded data removed]",
      "text/plain": [
       "<Figure size 540x360 with 2 Axes>"
      ]
     },
     "metadata": {
      "needs_background": "light"
     },
     "output_type": "display_data"
    },
    {
     "data": {
      "image/png": "[encoded data removed]",
      "text/plain": [
       "<Figure size 540x360 with 2 Axes>"
      ]
     },
     "metadata": {
      "needs_background": "light"
     },
     "output_type": "display_data"
    },
    {
     "data": {
      "image/png": "[encoded data removed]",
      "text/plain": [
       "<Figure size 540x360 with 2 Axes>"
      ]
     },
     "metadata": {
      "needs_background": "light"
     },
     "output_type": "display_data"
    },
    {
     "data": {
      "image/png": "[encoded data removed]",
      "text/plain": [
       "<Figure size 540x360 with 2 Axes>"
      ]
     },
     "metadata": {
      "needs_background": "light"
     },
     "output_type": "display_data"
    },
    {
     "data": {
      "image/png": "[encoded data removed]",
      "text/plain": [
       "<Figure size 540x360 with 2 Axes>"
      ]
     },
     "metadata": {
      "needs_background": "light"
     },
     "output_type": "display_data"
    },
    {
     "data": {
      "image/png": "[encoded data removed]",
      "text/plain": [
       "<Figure size 540x360 with 2 Axes>"
      ]
     },
     "metadata": {
      "needs_background": "light"
     },
     "output_type": "display_data"
    },
    {
     "data": {
      "image/png": "[encoded data removed]",
      "text/plain": [
       "<Figure size 540x360 with 2 Axes>"
      ]
     },
     "metadata": {
      "needs_background": "light"
     },
     "output_type": "display_data"
    },
    {
     "data": {
      "image/png": "[encoded data removed]",
      "text/plain": [
       "<Figure size 540x360 with 2 Axes>"
      ]
     },
     "metadata": {
      "needs_background": "light"
     },
     "output_type": "display_data"
    },
    {
     "data": {
      "image/png": "[encoded data removed]",
      "text/plain": [
       "<Figure size 540x360 with 2 Axes>"
      ]
     },
     "metadata": {
      "needs_background": "light"
     },
     "output_type": "display_data"
    },
    {
     "data": {
      "image/png": "[encoded data removed]",
      "text/plain": [
       "<Figure size 540x360 with 2 Axes>"
      ]
     },
     "metadata": {
      "needs_background": "light"
     },
     "output_type": "display_data"
    },
    {
     "data": {
      "image/png": "[encoded data removed]",
      "text/plain": [
       "<Figure size 540x360 with 2 Axes>"
      ]
     },
     "metadata": {
      "needs_background": "light"
     },
     "output_type": "display_data"
    }
   ],
   "source": [
    "from matplotlib import pyplot as plt\n",
    "x_axis = range(df.shape[0])\n",
    "\n",
    "for col in df.columns:\n",
    "    if df[col].dtypes == 'float64':\n",
    "        not_na = df[df[col].notna()][col]\n",
    "        plt.figure(figsize=(7.5, 5))\n",
    "        plt.subplot(1, 2, 1)\n",
    "        plt.ylabel(col)\n",
    "        plt.boxplot(not_na)\n",
    "        plt.subplot(1, 2, 2)\n",
    "        plt.hist(not_na, bins=10)\n",
    "        plt.show()"
   ]
  },
  {
   "cell_type": "code",
   "execution_count": null,
   "metadata": {},
   "outputs": [],
   "source": []
  }
 ],
 "metadata": {
  "kernelspec": {
   "display_name": "Python 3",
   "language": "python",
   "name": "python3"
  },
  "language_info": {
   "codemirror_mode": {
    "name": "ipython",
    "version": 3
   },
   "file_extension": ".py",
   "mimetype": "text/x-python",
   "name": "python",
   "nbconvert_exporter": "python",
   "pygments_lexer": "ipython3",
   "version": "3.7.9"
  }
 },
 "nbformat": 4,
 "nbformat_minor": 4
}
